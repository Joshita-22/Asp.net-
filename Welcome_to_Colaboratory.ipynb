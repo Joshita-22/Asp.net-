{
  "cells": [
    {
      "cell_type": "markdown",
      "metadata": {
        "id": "view-in-github",
        "colab_type": "text"
      },
      "source": [
        "<a href=\"https://colab.research.google.com/github/Joshita-22/Asp.net-/blob/main/Welcome_to_Colaboratory.ipynb\" target=\"_parent\"><img src=\"https://colab.research.google.com/assets/colab-badge.svg\" alt=\"Open In Colab\"/></a>"
      ]
    },
    {
      "cell_type": "code",
      "source": [
        "import numpy as np"
      ],
      "metadata": {
        "id": "bIJgeXaycrgl"
      },
      "execution_count": 15,
      "outputs": []
    },
    {
      "cell_type": "code",
      "source": [
        "X = np.array(([2, 9], [1, 5], [3, 6]), dtype=float)\n",
        "y = np.array(([92], [86], [89]), dtype=float)\n",
        "X = X/np.amax(X) # max of array\n",
        "y = y/100"
      ],
      "metadata": {
        "id": "AeI3Tua-cw5N"
      },
      "execution_count": 16,
      "outputs": []
    },
    {
      "cell_type": "code",
      "source": [
        "def sigmoid (x):\n",
        "  return 1/(1 + np.exp(-x))"
      ],
      "metadata": {
        "id": "3zUeV69Bcy5C"
      },
      "execution_count": 17,
      "outputs": []
    },
    {
      "cell_type": "code",
      "source": [
        "def derivatives_sigmoid(x):\n",
        "  return x * (1 - x)"
      ],
      "metadata": {
        "id": "WmSr1DPZc1Qr"
      },
      "execution_count": 18,
      "outputs": []
    },
    {
      "cell_type": "code",
      "source": [
        "epoch=5000\n",
        "lr=0.1"
      ],
      "metadata": {
        "id": "I6pZo5_tc3_H"
      },
      "execution_count": 19,
      "outputs": []
    },
    {
      "cell_type": "code",
      "source": [
        "wh = np.random.uniform(size=(2,3))\n",
        "bh = np.random.uniform(size=(1,3))\n",
        "wout = np.random.uniform(size=(3,1))\n",
        "bout = np.random.uniform(size=(1,1))"
      ],
      "metadata": {
        "id": "2Vp3AWvQc6Xv"
      },
      "execution_count": 20,
      "outputs": []
    },
    {
      "cell_type": "code",
      "source": [
        "for i in range(epoch):\n",
        "# forward prop\n",
        "  hinp=np.dot(X,wh) + bh\n",
        "  hlayer_act = sigmoid(hinp)\n",
        "  outinp=np.dot(hlayer_act,wout) + bout\n",
        "  output = sigmoid(outinp)\n",
        "\n",
        "  hiddengrad = derivatives_sigmoid(hlayer_act)\n",
        "  outgrad = derivatives_sigmoid(output)\n",
        "\n",
        "  EO = y-output\n",
        "  d_output = EO* outgrad\n",
        "\n",
        "  EH = d_output.dot(wout.T)\n",
        "  d_hiddenlayer = EH * hiddengrad\n",
        "  \n",
        "  wout += hlayer_act.T.dot(d_output) *lr\n",
        "  wh += X.T.dot(d_hiddenlayer) *lr\n",
        "\n"
      ],
      "metadata": {
        "id": "dFyeM9QVc8fP"
      },
      "execution_count": 21,
      "outputs": []
    },
    {
      "cell_type": "code",
      "source": [
        "  print(\"Input: \\n\" + str(X))\n",
        "  print(\"Actual Output: \\n\" + str(y))\n",
        "  print(\"Predicted Output: \\n\" ,output)"
      ],
      "metadata": {
        "colab": {
          "base_uri": "https://localhost:8080/"
        },
        "id": "KZor83ALdARL",
        "outputId": "882757fc-0267-41f2-9e84-fe5e88f08832"
      },
      "execution_count": 22,
      "outputs": [
        {
          "output_type": "stream",
          "name": "stdout",
          "text": [
            "Input: \n",
            "[[0.22222222 1.        ]\n",
            " [0.11111111 0.55555556]\n",
            " [0.33333333 0.66666667]]\n",
            "Actual Output: \n",
            "[[0.92]\n",
            " [0.86]\n",
            " [0.89]]\n",
            "Predicted Output: \n",
            " [[0.89322853]\n",
            " [0.88548104]\n",
            " [0.89130262]]\n"
          ]
        }
      ]
    },
    {
      "cell_type": "code",
      "source": [
        "from sklearn.datasets import load_iris\n",
        "from sklearn.neighbors import KNeighborsClassifier\n",
        "import numpy as np\n",
        "from sklearn.model_selection import train_test_split"
      ],
      "metadata": {
        "id": "2WXidBYJmAeu"
      },
      "execution_count": 23,
      "outputs": []
    },
    {
      "cell_type": "code",
      "source": [
        "iris_dataset=load_iris()"
      ],
      "metadata": {
        "id": "-5YxFT1kmGgN"
      },
      "execution_count": 24,
      "outputs": []
    },
    {
      "cell_type": "code",
      "source": [
        "print(\"\\n IRIS FEATURES \\ TARGET NAMES: \\n \", iris_dataset.target_names)\n",
        "for i in range(len(iris_dataset.target_names)):\n",
        "  print(\"\\n[{0}]:[{1}]\".format(i,iris_dataset.target_names[i]))\n"
      ],
      "metadata": {
        "colab": {
          "base_uri": "https://localhost:8080/"
        },
        "id": "VLL3_In7mIoS",
        "outputId": "0f7f79f4-ac16-4272-a060-482f897b9675"
      },
      "execution_count": 25,
      "outputs": [
        {
          "output_type": "stream",
          "name": "stdout",
          "text": [
            "\n",
            " IRIS FEATURES \\ TARGET NAMES: \n",
            "  ['setosa' 'versicolor' 'virginica']\n",
            "\n",
            "[0]:[setosa]\n",
            "\n",
            "[1]:[versicolor]\n",
            "\n",
            "[2]:[virginica]\n"
          ]
        }
      ]
    },
    {
      "cell_type": "code",
      "source": [
        "print(\"\\n IRIS DATA :\\n\",iris_dataset[\"data\"])"
      ],
      "metadata": {
        "colab": {
          "base_uri": "https://localhost:8080/"
        },
        "id": "XsCm9V3qmQwb",
        "outputId": "aa1c29df-ea13-47cd-ae4c-909b72c9ca84"
      },
      "execution_count": 26,
      "outputs": [
        {
          "output_type": "stream",
          "name": "stdout",
          "text": [
            "\n",
            " IRIS DATA :\n",
            " [[5.1 3.5 1.4 0.2]\n",
            " [4.9 3.  1.4 0.2]\n",
            " [4.7 3.2 1.3 0.2]\n",
            " [4.6 3.1 1.5 0.2]\n",
            " [5.  3.6 1.4 0.2]\n",
            " [5.4 3.9 1.7 0.4]\n",
            " [4.6 3.4 1.4 0.3]\n",
            " [5.  3.4 1.5 0.2]\n",
            " [4.4 2.9 1.4 0.2]\n",
            " [4.9 3.1 1.5 0.1]\n",
            " [5.4 3.7 1.5 0.2]\n",
            " [4.8 3.4 1.6 0.2]\n",
            " [4.8 3.  1.4 0.1]\n",
            " [4.3 3.  1.1 0.1]\n",
            " [5.8 4.  1.2 0.2]\n",
            " [5.7 4.4 1.5 0.4]\n",
            " [5.4 3.9 1.3 0.4]\n",
            " [5.1 3.5 1.4 0.3]\n",
            " [5.7 3.8 1.7 0.3]\n",
            " [5.1 3.8 1.5 0.3]\n",
            " [5.4 3.4 1.7 0.2]\n",
            " [5.1 3.7 1.5 0.4]\n",
            " [4.6 3.6 1.  0.2]\n",
            " [5.1 3.3 1.7 0.5]\n",
            " [4.8 3.4 1.9 0.2]\n",
            " [5.  3.  1.6 0.2]\n",
            " [5.  3.4 1.6 0.4]\n",
            " [5.2 3.5 1.5 0.2]\n",
            " [5.2 3.4 1.4 0.2]\n",
            " [4.7 3.2 1.6 0.2]\n",
            " [4.8 3.1 1.6 0.2]\n",
            " [5.4 3.4 1.5 0.4]\n",
            " [5.2 4.1 1.5 0.1]\n",
            " [5.5 4.2 1.4 0.2]\n",
            " [4.9 3.1 1.5 0.2]\n",
            " [5.  3.2 1.2 0.2]\n",
            " [5.5 3.5 1.3 0.2]\n",
            " [4.9 3.6 1.4 0.1]\n",
            " [4.4 3.  1.3 0.2]\n",
            " [5.1 3.4 1.5 0.2]\n",
            " [5.  3.5 1.3 0.3]\n",
            " [4.5 2.3 1.3 0.3]\n",
            " [4.4 3.2 1.3 0.2]\n",
            " [5.  3.5 1.6 0.6]\n",
            " [5.1 3.8 1.9 0.4]\n",
            " [4.8 3.  1.4 0.3]\n",
            " [5.1 3.8 1.6 0.2]\n",
            " [4.6 3.2 1.4 0.2]\n",
            " [5.3 3.7 1.5 0.2]\n",
            " [5.  3.3 1.4 0.2]\n",
            " [7.  3.2 4.7 1.4]\n",
            " [6.4 3.2 4.5 1.5]\n",
            " [6.9 3.1 4.9 1.5]\n",
            " [5.5 2.3 4.  1.3]\n",
            " [6.5 2.8 4.6 1.5]\n",
            " [5.7 2.8 4.5 1.3]\n",
            " [6.3 3.3 4.7 1.6]\n",
            " [4.9 2.4 3.3 1. ]\n",
            " [6.6 2.9 4.6 1.3]\n",
            " [5.2 2.7 3.9 1.4]\n",
            " [5.  2.  3.5 1. ]\n",
            " [5.9 3.  4.2 1.5]\n",
            " [6.  2.2 4.  1. ]\n",
            " [6.1 2.9 4.7 1.4]\n",
            " [5.6 2.9 3.6 1.3]\n",
            " [6.7 3.1 4.4 1.4]\n",
            " [5.6 3.  4.5 1.5]\n",
            " [5.8 2.7 4.1 1. ]\n",
            " [6.2 2.2 4.5 1.5]\n",
            " [5.6 2.5 3.9 1.1]\n",
            " [5.9 3.2 4.8 1.8]\n",
            " [6.1 2.8 4.  1.3]\n",
            " [6.3 2.5 4.9 1.5]\n",
            " [6.1 2.8 4.7 1.2]\n",
            " [6.4 2.9 4.3 1.3]\n",
            " [6.6 3.  4.4 1.4]\n",
            " [6.8 2.8 4.8 1.4]\n",
            " [6.7 3.  5.  1.7]\n",
            " [6.  2.9 4.5 1.5]\n",
            " [5.7 2.6 3.5 1. ]\n",
            " [5.5 2.4 3.8 1.1]\n",
            " [5.5 2.4 3.7 1. ]\n",
            " [5.8 2.7 3.9 1.2]\n",
            " [6.  2.7 5.1 1.6]\n",
            " [5.4 3.  4.5 1.5]\n",
            " [6.  3.4 4.5 1.6]\n",
            " [6.7 3.1 4.7 1.5]\n",
            " [6.3 2.3 4.4 1.3]\n",
            " [5.6 3.  4.1 1.3]\n",
            " [5.5 2.5 4.  1.3]\n",
            " [5.5 2.6 4.4 1.2]\n",
            " [6.1 3.  4.6 1.4]\n",
            " [5.8 2.6 4.  1.2]\n",
            " [5.  2.3 3.3 1. ]\n",
            " [5.6 2.7 4.2 1.3]\n",
            " [5.7 3.  4.2 1.2]\n",
            " [5.7 2.9 4.2 1.3]\n",
            " [6.2 2.9 4.3 1.3]\n",
            " [5.1 2.5 3.  1.1]\n",
            " [5.7 2.8 4.1 1.3]\n",
            " [6.3 3.3 6.  2.5]\n",
            " [5.8 2.7 5.1 1.9]\n",
            " [7.1 3.  5.9 2.1]\n",
            " [6.3 2.9 5.6 1.8]\n",
            " [6.5 3.  5.8 2.2]\n",
            " [7.6 3.  6.6 2.1]\n",
            " [4.9 2.5 4.5 1.7]\n",
            " [7.3 2.9 6.3 1.8]\n",
            " [6.7 2.5 5.8 1.8]\n",
            " [7.2 3.6 6.1 2.5]\n",
            " [6.5 3.2 5.1 2. ]\n",
            " [6.4 2.7 5.3 1.9]\n",
            " [6.8 3.  5.5 2.1]\n",
            " [5.7 2.5 5.  2. ]\n",
            " [5.8 2.8 5.1 2.4]\n",
            " [6.4 3.2 5.3 2.3]\n",
            " [6.5 3.  5.5 1.8]\n",
            " [7.7 3.8 6.7 2.2]\n",
            " [7.7 2.6 6.9 2.3]\n",
            " [6.  2.2 5.  1.5]\n",
            " [6.9 3.2 5.7 2.3]\n",
            " [5.6 2.8 4.9 2. ]\n",
            " [7.7 2.8 6.7 2. ]\n",
            " [6.3 2.7 4.9 1.8]\n",
            " [6.7 3.3 5.7 2.1]\n",
            " [7.2 3.2 6.  1.8]\n",
            " [6.2 2.8 4.8 1.8]\n",
            " [6.1 3.  4.9 1.8]\n",
            " [6.4 2.8 5.6 2.1]\n",
            " [7.2 3.  5.8 1.6]\n",
            " [7.4 2.8 6.1 1.9]\n",
            " [7.9 3.8 6.4 2. ]\n",
            " [6.4 2.8 5.6 2.2]\n",
            " [6.3 2.8 5.1 1.5]\n",
            " [6.1 2.6 5.6 1.4]\n",
            " [7.7 3.  6.1 2.3]\n",
            " [6.3 3.4 5.6 2.4]\n",
            " [6.4 3.1 5.5 1.8]\n",
            " [6.  3.  4.8 1.8]\n",
            " [6.9 3.1 5.4 2.1]\n",
            " [6.7 3.1 5.6 2.4]\n",
            " [6.9 3.1 5.1 2.3]\n",
            " [5.8 2.7 5.1 1.9]\n",
            " [6.8 3.2 5.9 2.3]\n",
            " [6.7 3.3 5.7 2.5]\n",
            " [6.7 3.  5.2 2.3]\n",
            " [6.3 2.5 5.  1.9]\n",
            " [6.5 3.  5.2 2. ]\n",
            " [6.2 3.4 5.4 2.3]\n",
            " [5.9 3.  5.1 1.8]]\n"
          ]
        }
      ]
    },
    {
      "cell_type": "code",
      "source": [
        "X_train, X_test, y_train, y_test = train_test_split(iris_dataset[\"data\"], iris_dataset[\"target\"], random_state=0)"
      ],
      "metadata": {
        "id": "n1-rGeoDmRvG"
      },
      "execution_count": 27,
      "outputs": []
    },
    {
      "cell_type": "code",
      "source": [
        "print(\"\\n Target :\\n\",iris_dataset[\"target\"])\n",
        "print(\"\\n X TRAIN \\n\", X_train)\n",
        "print(\"\\n X TEST \\n\", X_test)\n",
        "print(\"\\n Y TRAIN \\n\", y_train)\n",
        "print(\"\\n Y TEST \\n\", y_test)"
      ],
      "metadata": {
        "colab": {
          "base_uri": "https://localhost:8080/"
        },
        "id": "xVn3rEhFmVwt",
        "outputId": "61e757c3-e7d1-4c51-bf5d-58f6004f46b7"
      },
      "execution_count": 28,
      "outputs": [
        {
          "output_type": "stream",
          "name": "stdout",
          "text": [
            "\n",
            " Target :\n",
            " [0 0 0 0 0 0 0 0 0 0 0 0 0 0 0 0 0 0 0 0 0 0 0 0 0 0 0 0 0 0 0 0 0 0 0 0 0\n",
            " 0 0 0 0 0 0 0 0 0 0 0 0 0 1 1 1 1 1 1 1 1 1 1 1 1 1 1 1 1 1 1 1 1 1 1 1 1\n",
            " 1 1 1 1 1 1 1 1 1 1 1 1 1 1 1 1 1 1 1 1 1 1 1 1 1 1 2 2 2 2 2 2 2 2 2 2 2\n",
            " 2 2 2 2 2 2 2 2 2 2 2 2 2 2 2 2 2 2 2 2 2 2 2 2 2 2 2 2 2 2 2 2 2 2 2 2 2\n",
            " 2 2]\n",
            "\n",
            " X TRAIN \n",
            " [[5.9 3.  4.2 1.5]\n",
            " [5.8 2.6 4.  1.2]\n",
            " [6.8 3.  5.5 2.1]\n",
            " [4.7 3.2 1.3 0.2]\n",
            " [6.9 3.1 5.1 2.3]\n",
            " [5.  3.5 1.6 0.6]\n",
            " [5.4 3.7 1.5 0.2]\n",
            " [5.  2.  3.5 1. ]\n",
            " [6.5 3.  5.5 1.8]\n",
            " [6.7 3.3 5.7 2.5]\n",
            " [6.  2.2 5.  1.5]\n",
            " [6.7 2.5 5.8 1.8]\n",
            " [5.6 2.5 3.9 1.1]\n",
            " [7.7 3.  6.1 2.3]\n",
            " [6.3 3.3 4.7 1.6]\n",
            " [5.5 2.4 3.8 1.1]\n",
            " [6.3 2.7 4.9 1.8]\n",
            " [6.3 2.8 5.1 1.5]\n",
            " [4.9 2.5 4.5 1.7]\n",
            " [6.3 2.5 5.  1.9]\n",
            " [7.  3.2 4.7 1.4]\n",
            " [6.5 3.  5.2 2. ]\n",
            " [6.  3.4 4.5 1.6]\n",
            " [4.8 3.1 1.6 0.2]\n",
            " [5.8 2.7 5.1 1.9]\n",
            " [5.6 2.7 4.2 1.3]\n",
            " [5.6 2.9 3.6 1.3]\n",
            " [5.5 2.5 4.  1.3]\n",
            " [6.1 3.  4.6 1.4]\n",
            " [7.2 3.2 6.  1.8]\n",
            " [5.3 3.7 1.5 0.2]\n",
            " [4.3 3.  1.1 0.1]\n",
            " [6.4 2.7 5.3 1.9]\n",
            " [5.7 3.  4.2 1.2]\n",
            " [5.4 3.4 1.7 0.2]\n",
            " [5.7 4.4 1.5 0.4]\n",
            " [6.9 3.1 4.9 1.5]\n",
            " [4.6 3.1 1.5 0.2]\n",
            " [5.9 3.  5.1 1.8]\n",
            " [5.1 2.5 3.  1.1]\n",
            " [4.6 3.4 1.4 0.3]\n",
            " [6.2 2.2 4.5 1.5]\n",
            " [7.2 3.6 6.1 2.5]\n",
            " [5.7 2.9 4.2 1.3]\n",
            " [4.8 3.  1.4 0.1]\n",
            " [7.1 3.  5.9 2.1]\n",
            " [6.9 3.2 5.7 2.3]\n",
            " [6.5 3.  5.8 2.2]\n",
            " [6.4 2.8 5.6 2.1]\n",
            " [5.1 3.8 1.6 0.2]\n",
            " [4.8 3.4 1.6 0.2]\n",
            " [6.5 3.2 5.1 2. ]\n",
            " [6.7 3.3 5.7 2.1]\n",
            " [4.5 2.3 1.3 0.3]\n",
            " [6.2 3.4 5.4 2.3]\n",
            " [4.9 3.  1.4 0.2]\n",
            " [5.7 2.5 5.  2. ]\n",
            " [6.9 3.1 5.4 2.1]\n",
            " [4.4 3.2 1.3 0.2]\n",
            " [5.  3.6 1.4 0.2]\n",
            " [7.2 3.  5.8 1.6]\n",
            " [5.1 3.5 1.4 0.3]\n",
            " [4.4 3.  1.3 0.2]\n",
            " [5.4 3.9 1.7 0.4]\n",
            " [5.5 2.3 4.  1.3]\n",
            " [6.8 3.2 5.9 2.3]\n",
            " [7.6 3.  6.6 2.1]\n",
            " [5.1 3.5 1.4 0.2]\n",
            " [4.9 3.1 1.5 0.2]\n",
            " [5.2 3.4 1.4 0.2]\n",
            " [5.7 2.8 4.5 1.3]\n",
            " [6.6 3.  4.4 1.4]\n",
            " [5.  3.2 1.2 0.2]\n",
            " [5.1 3.3 1.7 0.5]\n",
            " [6.4 2.9 4.3 1.3]\n",
            " [5.4 3.4 1.5 0.4]\n",
            " [7.7 2.6 6.9 2.3]\n",
            " [4.9 2.4 3.3 1. ]\n",
            " [7.9 3.8 6.4 2. ]\n",
            " [6.7 3.1 4.4 1.4]\n",
            " [5.2 4.1 1.5 0.1]\n",
            " [6.  3.  4.8 1.8]\n",
            " [5.8 4.  1.2 0.2]\n",
            " [7.7 2.8 6.7 2. ]\n",
            " [5.1 3.8 1.5 0.3]\n",
            " [4.7 3.2 1.6 0.2]\n",
            " [7.4 2.8 6.1 1.9]\n",
            " [5.  3.3 1.4 0.2]\n",
            " [6.3 3.4 5.6 2.4]\n",
            " [5.7 2.8 4.1 1.3]\n",
            " [5.8 2.7 3.9 1.2]\n",
            " [5.7 2.6 3.5 1. ]\n",
            " [6.4 3.2 5.3 2.3]\n",
            " [6.7 3.  5.2 2.3]\n",
            " [6.3 2.5 4.9 1.5]\n",
            " [6.7 3.  5.  1.7]\n",
            " [5.  3.  1.6 0.2]\n",
            " [5.5 2.4 3.7 1. ]\n",
            " [6.7 3.1 5.6 2.4]\n",
            " [5.8 2.7 5.1 1.9]\n",
            " [5.1 3.4 1.5 0.2]\n",
            " [6.6 2.9 4.6 1.3]\n",
            " [5.6 3.  4.1 1.3]\n",
            " [5.9 3.2 4.8 1.8]\n",
            " [6.3 2.3 4.4 1.3]\n",
            " [5.5 3.5 1.3 0.2]\n",
            " [5.1 3.7 1.5 0.4]\n",
            " [4.9 3.1 1.5 0.1]\n",
            " [6.3 2.9 5.6 1.8]\n",
            " [5.8 2.7 4.1 1. ]\n",
            " [7.7 3.8 6.7 2.2]\n",
            " [4.6 3.2 1.4 0.2]]\n",
            "\n",
            " X TEST \n",
            " [[5.8 2.8 5.1 2.4]\n",
            " [6.  2.2 4.  1. ]\n",
            " [5.5 4.2 1.4 0.2]\n",
            " [7.3 2.9 6.3 1.8]\n",
            " [5.  3.4 1.5 0.2]\n",
            " [6.3 3.3 6.  2.5]\n",
            " [5.  3.5 1.3 0.3]\n",
            " [6.7 3.1 4.7 1.5]\n",
            " [6.8 2.8 4.8 1.4]\n",
            " [6.1 2.8 4.  1.3]\n",
            " [6.1 2.6 5.6 1.4]\n",
            " [6.4 3.2 4.5 1.5]\n",
            " [6.1 2.8 4.7 1.2]\n",
            " [6.5 2.8 4.6 1.5]\n",
            " [6.1 2.9 4.7 1.4]\n",
            " [4.9 3.6 1.4 0.1]\n",
            " [6.  2.9 4.5 1.5]\n",
            " [5.5 2.6 4.4 1.2]\n",
            " [4.8 3.  1.4 0.3]\n",
            " [5.4 3.9 1.3 0.4]\n",
            " [5.6 2.8 4.9 2. ]\n",
            " [5.6 3.  4.5 1.5]\n",
            " [4.8 3.4 1.9 0.2]\n",
            " [4.4 2.9 1.4 0.2]\n",
            " [6.2 2.8 4.8 1.8]\n",
            " [4.6 3.6 1.  0.2]\n",
            " [5.1 3.8 1.9 0.4]\n",
            " [6.2 2.9 4.3 1.3]\n",
            " [5.  2.3 3.3 1. ]\n",
            " [5.  3.4 1.6 0.4]\n",
            " [6.4 3.1 5.5 1.8]\n",
            " [5.4 3.  4.5 1.5]\n",
            " [5.2 3.5 1.5 0.2]\n",
            " [6.1 3.  4.9 1.8]\n",
            " [6.4 2.8 5.6 2.2]\n",
            " [5.2 2.7 3.9 1.4]\n",
            " [5.7 3.8 1.7 0.3]\n",
            " [6.  2.7 5.1 1.6]]\n",
            "\n",
            " Y TRAIN \n",
            " [1 1 2 0 2 0 0 1 2 2 2 2 1 2 1 1 2 2 2 2 1 2 1 0 2 1 1 1 1 2 0 0 2 1 0 0 1\n",
            " 0 2 1 0 1 2 1 0 2 2 2 2 0 0 2 2 0 2 0 2 2 0 0 2 0 0 0 1 2 2 0 0 0 1 1 0 0\n",
            " 1 0 2 1 2 1 0 2 0 2 0 0 2 0 2 1 1 1 2 2 1 1 0 1 2 2 0 1 1 1 1 0 0 0 2 1 2\n",
            " 0]\n",
            "\n",
            " Y TEST \n",
            " [2 1 0 2 0 2 0 1 1 1 2 1 1 1 1 0 1 1 0 0 2 1 0 0 2 0 0 1 1 0 2 1 0 2 2 1 0\n",
            " 1]\n"
          ]
        }
      ]
    },
    {
      "cell_type": "code",
      "source": [
        "kn = KNeighborsClassifier(n_neighbors=5)\n",
        "kn.fit(X_train, y_train)"
      ],
      "metadata": {
        "colab": {
          "base_uri": "https://localhost:8080/"
        },
        "id": "_6IOyyoHmYBO",
        "outputId": "46c384b8-dd0a-4501-e038-e1f7c070e2b8"
      },
      "execution_count": 29,
      "outputs": [
        {
          "output_type": "execute_result",
          "data": {
            "text/plain": [
              "KNeighborsClassifier()"
            ]
          },
          "metadata": {},
          "execution_count": 29
        }
      ]
    },
    {
      "cell_type": "code",
      "source": [
        "x_new = np.array([[5, 2.9, 1, 0.2]])\n",
        "print(\"\\n XNEW \\n\",x_new)\n",
        "prediction = kn.predict(x_new)\n",
        "print(\"\\n Predicted target value: {}\\n\".format(prediction))\n",
        "print(\"\\n Predicted feature name: {}\\n\".format(iris_dataset[\"target_names\"][prediction]))"
      ],
      "metadata": {
        "colab": {
          "base_uri": "https://localhost:8080/"
        },
        "id": "jHGHzlnFmajV",
        "outputId": "083f76c8-eb7b-48f3-c716-7340ef895100"
      },
      "execution_count": 30,
      "outputs": [
        {
          "output_type": "stream",
          "name": "stdout",
          "text": [
            "\n",
            " XNEW \n",
            " [[5.  2.9 1.  0.2]]\n",
            "\n",
            " Predicted target value: [0]\n",
            "\n",
            "\n",
            " Predicted feature name: ['setosa']\n",
            "\n"
          ]
        }
      ]
    },
    {
      "cell_type": "code",
      "source": [
        "i=1\n",
        "x= X_test[i]\n",
        "x_new = np.array([x])\n",
        "print(\"\\n XNEW \\n\",x_new)"
      ],
      "metadata": {
        "colab": {
          "base_uri": "https://localhost:8080/"
        },
        "id": "aMME2Qrlmg5t",
        "outputId": "7cbde5ab-d986-44ae-8d40-1fe10e169126"
      },
      "execution_count": 31,
      "outputs": [
        {
          "output_type": "stream",
          "name": "stdout",
          "text": [
            "\n",
            " XNEW \n",
            " [[6.  2.2 4.  1. ]]\n"
          ]
        }
      ]
    },
    {
      "cell_type": "code",
      "source": [
        "for i in range(len(X_test)):\n",
        "  x = X_test[i]\n",
        "  x_new = np.array([x])\n",
        "  prediction = kn.predict(x_new)\n",
        "  print(\"\\n Actual : {0} {1}, Predicted :{2}{3}\".format(y_test[i],iris_dataset[\"target_names\"][y_test[i]],prediction,iris_dataset[\"target_names\"][ prediction]))\n",
        "  print(\"\\n TEST SCORE[ACCURACY]: {:.2f}\\n\".format(kn.score(X_test, y_test)))\n"
      ],
      "metadata": {
        "colab": {
          "base_uri": "https://localhost:8080/"
        },
        "id": "LUIv0IivmjOv",
        "outputId": "14d03b02-9441-43f0-f322-cccdb66bd335"
      },
      "execution_count": 32,
      "outputs": [
        {
          "output_type": "stream",
          "name": "stdout",
          "text": [
            "\n",
            " Actual : 2 virginica, Predicted :[2]['virginica']\n",
            "\n",
            " TEST SCORE[ACCURACY]: 0.97\n",
            "\n",
            "\n",
            " Actual : 1 versicolor, Predicted :[1]['versicolor']\n",
            "\n",
            " TEST SCORE[ACCURACY]: 0.97\n",
            "\n",
            "\n",
            " Actual : 0 setosa, Predicted :[0]['setosa']\n",
            "\n",
            " TEST SCORE[ACCURACY]: 0.97\n",
            "\n",
            "\n",
            " Actual : 2 virginica, Predicted :[2]['virginica']\n",
            "\n",
            " TEST SCORE[ACCURACY]: 0.97\n",
            "\n",
            "\n",
            " Actual : 0 setosa, Predicted :[0]['setosa']\n",
            "\n",
            " TEST SCORE[ACCURACY]: 0.97\n",
            "\n",
            "\n",
            " Actual : 2 virginica, Predicted :[2]['virginica']\n",
            "\n",
            " TEST SCORE[ACCURACY]: 0.97\n",
            "\n",
            "\n",
            " Actual : 0 setosa, Predicted :[0]['setosa']\n",
            "\n",
            " TEST SCORE[ACCURACY]: 0.97\n",
            "\n",
            "\n",
            " Actual : 1 versicolor, Predicted :[1]['versicolor']\n",
            "\n",
            " TEST SCORE[ACCURACY]: 0.97\n",
            "\n",
            "\n",
            " Actual : 1 versicolor, Predicted :[1]['versicolor']\n",
            "\n",
            " TEST SCORE[ACCURACY]: 0.97\n",
            "\n",
            "\n",
            " Actual : 1 versicolor, Predicted :[1]['versicolor']\n",
            "\n",
            " TEST SCORE[ACCURACY]: 0.97\n",
            "\n",
            "\n",
            " Actual : 2 virginica, Predicted :[2]['virginica']\n",
            "\n",
            " TEST SCORE[ACCURACY]: 0.97\n",
            "\n",
            "\n",
            " Actual : 1 versicolor, Predicted :[1]['versicolor']\n",
            "\n",
            " TEST SCORE[ACCURACY]: 0.97\n",
            "\n",
            "\n",
            " Actual : 1 versicolor, Predicted :[1]['versicolor']\n",
            "\n",
            " TEST SCORE[ACCURACY]: 0.97\n",
            "\n",
            "\n",
            " Actual : 1 versicolor, Predicted :[1]['versicolor']\n",
            "\n",
            " TEST SCORE[ACCURACY]: 0.97\n",
            "\n",
            "\n",
            " Actual : 1 versicolor, Predicted :[1]['versicolor']\n",
            "\n",
            " TEST SCORE[ACCURACY]: 0.97\n",
            "\n",
            "\n",
            " Actual : 0 setosa, Predicted :[0]['setosa']\n",
            "\n",
            " TEST SCORE[ACCURACY]: 0.97\n",
            "\n",
            "\n",
            " Actual : 1 versicolor, Predicted :[1]['versicolor']\n",
            "\n",
            " TEST SCORE[ACCURACY]: 0.97\n",
            "\n",
            "\n",
            " Actual : 1 versicolor, Predicted :[1]['versicolor']\n",
            "\n",
            " TEST SCORE[ACCURACY]: 0.97\n",
            "\n",
            "\n",
            " Actual : 0 setosa, Predicted :[0]['setosa']\n",
            "\n",
            " TEST SCORE[ACCURACY]: 0.97\n",
            "\n",
            "\n",
            " Actual : 0 setosa, Predicted :[0]['setosa']\n",
            "\n",
            " TEST SCORE[ACCURACY]: 0.97\n",
            "\n",
            "\n",
            " Actual : 2 virginica, Predicted :[2]['virginica']\n",
            "\n",
            " TEST SCORE[ACCURACY]: 0.97\n",
            "\n",
            "\n",
            " Actual : 1 versicolor, Predicted :[1]['versicolor']\n",
            "\n",
            " TEST SCORE[ACCURACY]: 0.97\n",
            "\n",
            "\n",
            " Actual : 0 setosa, Predicted :[0]['setosa']\n",
            "\n",
            " TEST SCORE[ACCURACY]: 0.97\n",
            "\n",
            "\n",
            " Actual : 0 setosa, Predicted :[0]['setosa']\n",
            "\n",
            " TEST SCORE[ACCURACY]: 0.97\n",
            "\n",
            "\n",
            " Actual : 2 virginica, Predicted :[2]['virginica']\n",
            "\n",
            " TEST SCORE[ACCURACY]: 0.97\n",
            "\n",
            "\n",
            " Actual : 0 setosa, Predicted :[0]['setosa']\n",
            "\n",
            " TEST SCORE[ACCURACY]: 0.97\n",
            "\n",
            "\n",
            " Actual : 0 setosa, Predicted :[0]['setosa']\n",
            "\n",
            " TEST SCORE[ACCURACY]: 0.97\n",
            "\n",
            "\n",
            " Actual : 1 versicolor, Predicted :[1]['versicolor']\n",
            "\n",
            " TEST SCORE[ACCURACY]: 0.97\n",
            "\n",
            "\n",
            " Actual : 1 versicolor, Predicted :[1]['versicolor']\n",
            "\n",
            " TEST SCORE[ACCURACY]: 0.97\n",
            "\n",
            "\n",
            " Actual : 0 setosa, Predicted :[0]['setosa']\n",
            "\n",
            " TEST SCORE[ACCURACY]: 0.97\n",
            "\n",
            "\n",
            " Actual : 2 virginica, Predicted :[2]['virginica']\n",
            "\n",
            " TEST SCORE[ACCURACY]: 0.97\n",
            "\n",
            "\n",
            " Actual : 1 versicolor, Predicted :[1]['versicolor']\n",
            "\n",
            " TEST SCORE[ACCURACY]: 0.97\n",
            "\n",
            "\n",
            " Actual : 0 setosa, Predicted :[0]['setosa']\n",
            "\n",
            " TEST SCORE[ACCURACY]: 0.97\n",
            "\n",
            "\n",
            " Actual : 2 virginica, Predicted :[2]['virginica']\n",
            "\n",
            " TEST SCORE[ACCURACY]: 0.97\n",
            "\n",
            "\n",
            " Actual : 2 virginica, Predicted :[2]['virginica']\n",
            "\n",
            " TEST SCORE[ACCURACY]: 0.97\n",
            "\n",
            "\n",
            " Actual : 1 versicolor, Predicted :[1]['versicolor']\n",
            "\n",
            " TEST SCORE[ACCURACY]: 0.97\n",
            "\n",
            "\n",
            " Actual : 0 setosa, Predicted :[0]['setosa']\n",
            "\n",
            " TEST SCORE[ACCURACY]: 0.97\n",
            "\n",
            "\n",
            " Actual : 1 versicolor, Predicted :[2]['virginica']\n",
            "\n",
            " TEST SCORE[ACCURACY]: 0.97\n",
            "\n"
          ]
        }
      ]
    },
    {
      "cell_type": "code",
      "source": [
        "import matplotlib.pyplot as plt\n",
        "from sklearn import datasets\n",
        "from sklearn.cluster import KMeans\n",
        "import sklearn.metrics as sm\n",
        "import pandas as pd\n",
        "import numpy as np\n",
        "from sklearn import preprocessing\n",
        "from sklearn.mixture import GaussianMixture"
      ],
      "metadata": {
        "id": "Qfe0pVPyp1H3"
      },
      "execution_count": 33,
      "outputs": []
    },
    {
      "cell_type": "code",
      "source": [
        "l1 = [0,1,2]"
      ],
      "metadata": {
        "id": "GsfG_X4qqGZB"
      },
      "execution_count": 34,
      "outputs": []
    },
    {
      "cell_type": "code",
      "source": [
        "def rename(s):\n",
        "  l2 = []\n",
        "  for i in s:\n",
        "    if i not in l2:\n",
        "      l2.append(i)\n",
        "  for i in range(len(s)):\n",
        "    pos = l2.index(s[i])\n",
        "    s[i] = l1[pos]\n",
        "  return s"
      ],
      "metadata": {
        "id": "mhluAPW3qIRb"
      },
      "execution_count": 35,
      "outputs": []
    },
    {
      "cell_type": "code",
      "source": [
        "iris = datasets.load_iris()"
      ],
      "metadata": {
        "id": "ldwM_cwGqUgN"
      },
      "execution_count": 36,
      "outputs": []
    },
    {
      "cell_type": "code",
      "source": [
        "X = pd.DataFrame(iris.data,columns=['Sepal_Length','Sepal_Width','Petal_Length','Petal_Width'] )\n",
        "y = pd.DataFrame(iris.target,columns = ['Targets'])"
      ],
      "metadata": {
        "id": "F96-qr9Fqn0d"
      },
      "execution_count": 37,
      "outputs": []
    },
    {
      "cell_type": "code",
      "source": [
        "def graph_plot(l,title,s,target):\n",
        "  plt.subplot(l[0],l[1],l[2])\n",
        "  if s==1:\n",
        "    plt.scatter(X.Sepal_Length,X.Sepal_Width, c=colormap[target], s=40)\n",
        "  else:\n",
        "    plt.scatter(X.Petal_Length,X.Petal_Width, c=colormap[target], s=40)\n",
        "  plt.title(title)"
      ],
      "metadata": {
        "id": "mTY3seyoqsQt"
      },
      "execution_count": 38,
      "outputs": []
    },
    {
      "cell_type": "code",
      "source": [
        "plt.figure()\n",
        "colormap = np.array(['red', 'lime', 'black'])\n",
        "\n",
        "graph_plot([1, 2, 1],'sepal',1,y.Targets)\n",
        "graph_plot([1, 2, 2],'petal',0,y.Targets)\n",
        "plt.show()"
      ],
      "metadata": {
        "colab": {
          "base_uri": "https://localhost:8080/",
          "height": 281
        },
        "id": "4U1CvB1Pq7GY",
        "outputId": "c982a99e-6489-4ba3-bede-8be575ab35bd"
      },
      "execution_count": 39,
      "outputs": [
        {
          "output_type": "display_data",
          "data": {
            "text/plain": [
              "<Figure size 432x288 with 2 Axes>"
            ],
            "image/png": "[encoded data removed]"
          },
          "metadata": {
            "needs_background": "light"
          }
        }
      ]
    },
    {
      "cell_type": "code",
      "source": [
        "def fit_model(modelName):\n",
        "  model = modelName(3)\n",
        "  model.fit(X)\n",
        "  plt.figure()\n",
        "  colormap = np.array(['red', 'lime', 'black'])\n",
        "  graph_plot([1, 2, 1],'Real Classification',0,y.Targets)\n",
        "  if modelName == KMeans:\n",
        "    m = 'Kmeans'\n",
        "  else:\n",
        "    m = 'Em'\n",
        "  y1 = model.predict(X)\n",
        "  graph_plot([1, 2, 2],m,0,y1)\n",
        "  plt.show()\n",
        "  km = rename(y1)\n",
        "  print(\"\\nPredicted: \\n\", km)\n",
        "  print(\"Accuracy \",sm.accuracy_score(y, km))\n",
        "  print(\"Confusion Matrix \",sm.confusion_matrix(y, km))\n"
      ],
      "metadata": {
        "id": "k2ZhNYc_rAOT"
      },
      "execution_count": 40,
      "outputs": []
    },
    {
      "cell_type": "code",
      "source": [
        "fit_model(KMeans)\n",
        "fit_model(GaussianMixture)"
      ],
      "metadata": {
        "colab": {
          "base_uri": "https://localhost:8080/",
          "height": 927
        },
        "id": "u8NiyA2drSxi",
        "outputId": "deb2162a-6969-44b9-d68c-69c10b01852e"
      },
      "execution_count": 41,
      "outputs": [
        {
          "output_type": "display_data",
          "data": {
            "text/plain": [
              "<Figure size 432x288 with 2 Axes>"
            ],
            "image/png": "[encoded data removed]"
          },
          "metadata": {
            "needs_background": "light"
          }
        },
        {
          "output_type": "stream",
          "name": "stdout",
          "text": [
            "\n",
            "Predicted: \n",
            " [0 0 0 0 0 0 0 0 0 0 0 0 0 0 0 0 0 0 0 0 0 0 0 0 0 0 0 0 0 0 0 0 0 0 0 0 0\n",
            " 0 0 0 0 0 0 0 0 0 0 0 0 0 1 1 2 1 1 1 1 1 1 1 1 1 1 1 1 1 1 1 1 1 1 1 1 1\n",
            " 1 1 1 2 1 1 1 1 1 1 1 1 1 1 1 1 1 1 1 1 1 1 1 1 1 1 2 1 2 2 2 2 1 2 2 2 2\n",
            " 2 2 1 1 2 2 2 2 1 2 1 2 1 2 2 1 1 2 2 2 2 2 1 2 2 2 2 1 2 2 2 1 2 2 2 1 2\n",
            " 2 1]\n",
            "Accuracy  0.8933333333333333\n",
            "Confusion Matrix  [[50  0  0]\n",
            " [ 0 48  2]\n",
            " [ 0 14 36]]\n"
          ]
        },
        {
          "output_type": "display_data",
          "data": {
            "text/plain": [
              "<Figure size 432x288 with 2 Axes>"
            ],
            "image/png": "[encoded data removed]"
          },
          "metadata": {
            "needs_background": "light"
          }
        },
        {
          "output_type": "stream",
          "name": "stdout",
          "text": [
            "\n",
            "Predicted: \n",
            " [0 0 0 0 0 0 0 0 0 0 0 0 0 0 0 0 0 0 0 0 0 0 0 0 0 0 0 0 0 0 0 0 0 0 0 0 0\n",
            " 0 0 0 0 0 0 0 0 0 0 0 0 0 1 1 1 1 1 1 1 1 1 1 1 1 1 1 1 1 1 1 2 1 2 1 2 1\n",
            " 1 1 1 2 1 1 1 1 1 2 1 1 1 1 1 1 1 1 1 1 1 1 1 1 1 1 2 2 2 2 2 2 2 2 2 2 2\n",
            " 2 2 2 2 2 2 2 2 2 2 2 2 2 2 2 2 2 2 2 2 2 2 2 2 2 2 2 2 2 2 2 2 2 2 2 2 2\n",
            " 2 2]\n",
            "Accuracy  0.9666666666666667\n",
            "Confusion Matrix  [[50  0  0]\n",
            " [ 0 45  5]\n",
            " [ 0  0 50]]\n"
          ]
        }
      ]
    },
    {
      "cell_type": "code",
      "source": [
        "import numpy as np\n",
        "import matplotlib.pyplot as plt"
      ],
      "metadata": {
        "id": "fReQG-sEM-am"
      },
      "execution_count": 42,
      "outputs": []
    },
    {
      "cell_type": "code",
      "source": [
        "def local_regression(x0, X, Y, tau):\n",
        "  x0 = [1, x0]\n",
        "  X = [[1, i] for i in X]\n",
        "  X = np.asarray(X)\n",
        "  xw = (X.T) * np.exp(np.sum((X - x0) ** 2, axis=1) / (-2 * tau))\n",
        "  beta = np.linalg.pinv(xw @ X) @ xw @ Y @ x0\n",
        "  return beta"
      ],
      "metadata": {
        "id": "Ps3u80k-NBO1"
      },
      "execution_count": 43,
      "outputs": []
    },
    {
      "cell_type": "code",
      "source": [
        "def draw(tau):\n",
        "  prediction = [local_regression(x0, X, Y, tau) for x0 in domain]\n",
        "  plt.plot(X, Y, 'o', color='black')\n",
        "  plt.plot(domain, prediction, color='red')\n",
        "  plt.show()"
      ],
      "metadata": {
        "id": "oVqps3G9NFm5"
      },
      "execution_count": 44,
      "outputs": []
    },
    {
      "cell_type": "code",
      "source": [
        "X = np.linspace(-3, 3, num=1000)\n",
        "domain = X\n",
        "Y = np.log(np.abs(X ** 2 - 1) + .5)\n",
        "draw(10)\n",
        "draw(0.01)\n",
        "draw(0.1)"
      ],
      "metadata": {
        "colab": {
          "base_uri": "https://localhost:8080/",
          "height": 761
        },
        "id": "HmEYdNWhNJN1",
        "outputId": "56651fa9-c532-4e4f-a55a-7628ff867421"
      },
      "execution_count": 45,
      "outputs": [
        {
          "output_type": "display_data",
          "data": {
            "text/plain": [
              "<Figure size 432x288 with 1 Axes>"
            ],
            "image/png": "[encoded data removed]"
          },
          "metadata": {
            "needs_background": "light"
          }
        },
        {
          "output_type": "display_data",
          "data": {
            "text/plain": [
              "<Figure size 432x288 with 1 Axes>"
            ],
            "image/png": "[encoded data removed]"
          },
          "metadata": {
            "needs_background": "light"
          }
        },
        {
          "output_type": "display_data",
          "data": {
            "text/plain": [
              "<Figure size 432x288 with 1 Axes>"
            ],
            "image/png": "[encoded data removed]"
          },
          "metadata": {
            "needs_background": "light"
          }
        }
      ]
    },
    {
      "cell_type": "code",
      "source": [
        "import csv\n",
        "import random\n",
        "import math"
      ],
      "metadata": {
        "id": "6_P5_gZ9Qryp"
      },
      "execution_count": 46,
      "outputs": []
    },
    {
      "cell_type": "code",
      "source": [
        "def loadcsv(filename):\n",
        "  lines = csv.reader(open(filename, \"r\"))\n",
        "  dataset = list(lines)\n",
        "  for i in range(len(dataset)):\n",
        "    dataset[i] = [float(x) for x in dataset[i]]\n",
        "  return dataset"
      ],
      "metadata": {
        "id": "00QfaFqaQ0qo"
      },
      "execution_count": 47,
      "outputs": []
    },
    {
      "cell_type": "code",
      "source": [
        "def splitDataset(dataset, splitRatio):\n",
        "  trainSize = int(len(dataset) * splitRatio)\n",
        "  trainSet = []\n",
        "  trainSet,testSet = dataset[:trainSize],dataset[trainSize:]\n",
        "  return [trainSet, testSet]"
      ],
      "metadata": {
        "id": "Zfr-PtrVQ6DH"
      },
      "execution_count": 48,
      "outputs": []
    },
    {
      "cell_type": "code",
      "source": [
        "def mean(numbers):\n",
        "  return sum(numbers)/(len(numbers))"
      ],
      "metadata": {
        "id": "sbatJq_-Q9dj"
      },
      "execution_count": 49,
      "outputs": []
    },
    {
      "cell_type": "code",
      "source": [
        "def stdev(numbers):\n",
        "  avg = mean(numbers)\n",
        "  v = 0\n",
        "  for x in numbers:\n",
        "    v += (x-avg)**2\n",
        "  return math.sqrt(v/(len(numbers)-1))"
      ],
      "metadata": {
        "id": "-ktWTNIwQ9XS"
      },
      "execution_count": 50,
      "outputs": []
    },
    {
      "cell_type": "code",
      "source": [
        "def summarizeByClass(dataset):\n",
        "  separated = {}\n",
        "  for i in range(len(dataset)):\n",
        "    vector = dataset[i]\n",
        "    if (vector[-1] not in separated):\n",
        "      separated[vector[-1]] = []\n",
        "    separated[vector[-1]].append(vector)\n",
        "  summaries = {}\n",
        "  for classValue, instances in separated.items():\n",
        "    summaries[classValue] = [(mean(attribute), stdev(attribute)) for attribute in zip(*instances)][:-1]\n",
        "  return summaries"
      ],
      "metadata": {
        "id": "khnE_JwVRHAD"
      },
      "execution_count": 51,
      "outputs": []
    },
    {
      "cell_type": "code",
      "source": [
        "def calculateProbability(x, mean, stdev):\n",
        "  exponent = math.exp((-(x-mean)**2)/(2*(stdev**2)))\n",
        "  return (1 / ((2*math.pi)**(1/2)*stdev)) * exponent"
      ],
      "metadata": {
        "id": "CKRyqq0_Rf7i"
      },
      "execution_count": 52,
      "outputs": []
    },
    {
      "cell_type": "code",
      "source": [
        "def predict(summaries, inputVector):\n",
        "  probabilities = {}\n",
        "  for classValue, classSummaries in summaries.items():\n",
        "    probabilities[classValue] = 1\n",
        "    for i in range(len(classSummaries)):\n",
        "      mean, stdev = classSummaries[i]\n",
        "      x = inputVector[i]\n",
        "      probabilities[classValue] *= calculateProbability(x, mean, stdev)\n",
        "  bestLabel, bestProb = None, -1\n",
        "  for classValue, probability in probabilities.items():\n",
        "    if bestLabel is None or probability > bestProb:\n",
        "      bestProb = probability\n",
        "      bestLabel = classValue\n",
        "  return bestLabel"
      ],
      "metadata": {
        "id": "QRI4WXJBRjJf"
      },
      "execution_count": 53,
      "outputs": []
    },
    {
      "cell_type": "code",
      "source": [
        "def getPredictions(summaries, testSet):\n",
        "  predictions = []\n",
        "  for i in range(len(testSet)):\n",
        "    result = predict(summaries, testSet[i])\n",
        "    predictions.append(result)\n",
        "  return predictions"
      ],
      "metadata": {
        "id": "Iwi5S43YRwHo"
      },
      "execution_count": 54,
      "outputs": []
    },
    {
      "cell_type": "code",
      "source": [
        "def getAccuracy(testSet, predictions):\n",
        "  correct = 0\n",
        "  for i in range(len(testSet)):\n",
        "    if testSet[i][-1] == predictions[i]:\n",
        "      correct += 1\n",
        "  return (correct/(len(testSet))) * 100.0"
      ],
      "metadata": {
        "id": "AD8X4jMFR19a"
      },
      "execution_count": 55,
      "outputs": []
    },
    {
      "cell_type": "code",
      "source": [
        "filename = 'diabetes2.csv'\n",
        "splitRatio = 0.67\n",
        "dataset = loadcsv(filename)\n",
        "trainingSet, testSet = splitDataset(dataset, splitRatio)\n",
        "summaries = summarizeByClass(trainingSet)\n",
        "predictions = getPredictions(summaries, testSet)\n",
        "print(\"\\nPredictions:\\n\",predictions)\n",
        "accuracy = getAccuracy(testSet, predictions)\n",
        "print('Accuracy ',accuracy)"
      ],
      "metadata": {
        "colab": {
          "base_uri": "https://localhost:8080/"
        },
        "id": "D2KNc7y9R8fA",
        "outputId": "16e3dd81-5e1a-4540-80bf-a6f75c1370d9"
      },
      "execution_count": 56,
      "outputs": [
        {
          "output_type": "stream",
          "name": "stdout",
          "text": [
            "\n",
            "Predictions:\n",
            " [0.0, 0.0, 1.0, 1.0, 1.0, 1.0, 0.0, 0.0, 0.0, 1.0, 0.0, 0.0, 0.0, 0.0, 0.0, 0.0, 0.0, 0.0, 0.0, 1.0, 0.0, 1.0, 0.0, 0.0, 1.0, 1.0, 1.0, 0.0, 1.0, 0.0, 0.0, 1.0, 1.0, 0.0, 1.0, 1.0, 0.0, 0.0, 0.0, 0.0, 0.0, 0.0, 0.0, 0.0, 1.0, 0.0, 0.0, 1.0, 0.0, 0.0, 0.0, 0.0, 0.0, 0.0, 1.0, 0.0, 0.0, 0.0, 0.0, 0.0, 1.0, 0.0, 0.0, 0.0, 1.0, 1.0, 1.0, 0.0, 1.0, 0.0, 1.0, 0.0, 1.0, 0.0, 1.0, 0.0, 1.0, 0.0, 0.0, 1.0, 1.0, 1.0, 0.0, 0.0, 1.0, 0.0, 0.0, 0.0, 0.0, 1.0, 1.0, 0.0, 1.0, 0.0, 1.0, 0.0, 0.0, 1.0, 1.0, 0.0, 1.0, 0.0, 0.0, 0.0, 1.0, 1.0, 0.0, 1.0, 1.0, 0.0, 0.0, 0.0, 0.0, 0.0, 0.0, 0.0, 0.0, 0.0, 0.0, 0.0, 0.0, 1.0, 0.0, 0.0, 1.0, 0.0, 0.0, 0.0, 1.0, 1.0, 0.0, 1.0, 0.0, 1.0, 1.0, 0.0, 0.0, 0.0, 0.0, 0.0, 0.0, 1.0, 0.0, 1.0, 1.0, 0.0, 1.0, 1.0, 1.0, 1.0, 0.0, 0.0, 0.0, 0.0, 0.0, 1.0, 1.0, 0.0, 1.0, 1.0, 0.0, 1.0, 1.0, 0.0, 0.0, 0.0, 0.0, 1.0, 0.0, 0.0, 0.0, 0.0, 0.0, 0.0, 0.0, 1.0, 0.0, 1.0, 0.0, 1.0, 0.0, 1.0, 1.0, 0.0, 0.0, 1.0, 0.0, 0.0, 1.0, 1.0, 0.0, 0.0, 0.0, 1.0, 1.0, 0.0, 1.0, 0.0, 1.0, 0.0, 0.0, 1.0, 1.0, 0.0, 0.0, 0.0, 0.0, 0.0, 0.0, 0.0, 0.0, 0.0, 0.0, 0.0, 0.0, 0.0, 0.0, 0.0, 1.0, 0.0, 0.0, 0.0, 0.0, 0.0, 0.0, 0.0, 1.0, 0.0, 0.0, 1.0, 1.0, 1.0, 1.0, 1.0, 1.0, 1.0, 1.0, 0.0, 0.0, 1.0, 1.0, 1.0, 1.0, 0.0, 0.0, 1.0, 0.0, 1.0, 0.0, 1.0, 0.0, 0.0, 0.0, 0.0]\n",
            "Accuracy  76.77165354330708\n"
          ]
        }
      ]
    }
  ],
  "metadata": {
    "colab": {
      "name": "Welcome to Colaboratory",
      "provenance": [],
      "include_colab_link": true
    },
    "kernelspec": {
      "display_name": "Python 3",
      "name": "python3"
    }
  },
  "nbformat": 4,
  "nbformat_minor": 0
}